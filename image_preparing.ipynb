{
 "cells": [
  {
   "cell_type": "code",
   "execution_count": 6,
   "id": "initial_id",
   "metadata": {
    "collapsed": true,
    "ExecuteTime": {
     "end_time": "2025-06-13T20:48:25.618693700Z",
     "start_time": "2025-06-13T20:48:25.597829500Z"
    }
   },
   "outputs": [],
   "source": [
    "image_index = []\n",
    "image_name = []\n",
    "image_istrain = []\n",
    "image_bounding_box = []\n",
    "with open(\"D:\\CUB_200_2011\\CUB_200_2011\\images.txt\", \"r\") as file:\n",
    "    for line in file:\n",
    "        line = line.strip()\n",
    "        image_index.append(line.split(\" \")[0])\n",
    "        image_name.append(line.split(\" \")[1])\n",
    "with open(\"D:\\CUB_200_2011\\CUB_200_2011\\\\train_test_split.txt\", \"r\") as file:\n",
    "    for line in file:\n",
    "        line = line.strip()\n",
    "        image_istrain.append(line.split(\" \")[1])\n",
    "with open(\"D:\\CUB_200_2011\\CUB_200_2011\\\\bounding_boxes.txt\", \"r\") as file:\n",
    "    for line in file:\n",
    "        line = line.strip()\n",
    "        image_bounding_box.append(line.split(\" \")[1:])"
   ]
  },
  {
   "cell_type": "code",
   "outputs": [],
   "source": [
    "from PIL import Image\n",
    "import os\n",
    "source_dic = \"D:\\CUB_200_2011\\CUB_200_2011\\images\\\\\"\n",
    "target_train_dic = \"D:\\Prototype\\ProtoPNet\\datasets\\cub200_cropped\\\\train_cropped\\\\\"\n",
    "target_test_dic = \"D:\\Prototype\\ProtoPNet\\datasets\\cub200_cropped\\\\test_cropped\\\\\"\n",
    "for i in range(len(image_index)):\n",
    "    source_address = source_dic + image_name[i].split('/')[0] + '\\\\' + image_name[i].split('/')[1]\n",
    "    image = Image.open(source_address)\n",
    "    crop_box = (int(float(image_bounding_box[i][0])), int(float(image_bounding_box[i][1])), int(float(image_bounding_box[i][0])) + int(float(image_bounding_box[i][2])), int(float(image_bounding_box[i][1])) + int(float(image_bounding_box[i][3])))\n",
    "    cropped_image = image.crop(crop_box)\n",
    "    if image_istrain[i] == '1':\n",
    "        target_folder_dir = target_train_dic + image_name[i].split('/')[0]\n",
    "        target_dir = target_train_dic + image_name[i].split('/')[0] + '\\\\' + image_name[i].split('/')[1]\n",
    "        os.makedirs(target_folder_dir, exist_ok=True)\n",
    "        cropped_image.save(target_dir)\n",
    "    else:\n",
    "        target_folder_dir = target_test_dic + image_name[i].split('/')[0]\n",
    "        target_dir = target_test_dic + image_name[i].split('/')[0] + '\\\\' + image_name[i].split('/')[1]\n",
    "        os.makedirs(target_folder_dir, exist_ok=True)\n",
    "        cropped_image.save(target_dir)"
   ],
   "metadata": {
    "collapsed": false,
    "ExecuteTime": {
     "end_time": "2025-06-13T21:28:52.746846700Z",
     "start_time": "2025-06-13T21:27:57.976962500Z"
    }
   },
   "id": "7d20bc8e7cd00201",
   "execution_count": 19
  },
  {
   "cell_type": "code",
   "outputs": [],
   "source": [],
   "metadata": {
    "collapsed": false
   },
   "id": "1815f9892f8351de"
  }
 ],
 "metadata": {
  "kernelspec": {
   "display_name": "Python 3",
   "language": "python",
   "name": "python3"
  },
  "language_info": {
   "codemirror_mode": {
    "name": "ipython",
    "version": 2
   },
   "file_extension": ".py",
   "mimetype": "text/x-python",
   "name": "python",
   "nbconvert_exporter": "python",
   "pygments_lexer": "ipython2",
   "version": "2.7.6"
  }
 },
 "nbformat": 4,
 "nbformat_minor": 5
}
